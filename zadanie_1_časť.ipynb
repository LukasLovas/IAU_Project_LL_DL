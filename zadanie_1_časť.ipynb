{
 "cells": [
  {
   "cell_type": "markdown",
   "metadata": {},
   "source": [
    "IAU Projekt 1.fáza - Prieskumná analýza "
   ]
  },
  {
   "cell_type": "markdown",
   "metadata": {},
   "source": [
    "Autori: Lukáš Lovás(50%), Daniel Lendvorský(50%)"
   ]
  },
  {
   "cell_type": "markdown",
   "metadata": {},
   "source": [
    "Dátum: 20.10.2023"
   ]
  },
  {
   "cell_type": "code",
   "execution_count": 20,
   "metadata": {},
   "outputs": [],
   "source": [
    "import matplotlib\n",
    "import matplotlib.pylab as pylab\n",
    "import matplotlib.pyplot as plt\n",
    "import seaborn as sns\n",
    "import pandas as pd\n",
    "import numpy as np\n",
    "import scipy.stats as stats"
   ]
  },
  {
   "cell_type": "markdown",
   "metadata": {},
   "source": [
    "Načítanie údajov z datasetov"
   ]
  },
  {
   "cell_type": "code",
   "execution_count": 21,
   "metadata": {},
   "outputs": [
    {
     "data": {
      "text/html": [
       "<div>\n",
       "<style scoped>\n",
       "    .dataframe tbody tr th:only-of-type {\n",
       "        vertical-align: middle;\n",
       "    }\n",
       "\n",
       "    .dataframe tbody tr th {\n",
       "        vertical-align: top;\n",
       "    }\n",
       "\n",
       "    .dataframe thead th {\n",
       "        text-align: right;\n",
       "    }\n",
       "</style>\n",
       "<table border=\"1\" class=\"dataframe\">\n",
       "  <thead>\n",
       "    <tr style=\"text-align: right;\">\n",
       "      <th></th>\n",
       "      <th>code</th>\n",
       "      <th>store_name</th>\n",
       "      <th>product_ean</th>\n",
       "      <th>location</th>\n",
       "    </tr>\n",
       "  </thead>\n",
       "  <tbody>\n",
       "    <tr>\n",
       "      <th>0</th>\n",
       "      <td>GB</td>\n",
       "      <td>Newbury</td>\n",
       "      <td>6528474892715</td>\n",
       "      <td>Europe/London</td>\n",
       "    </tr>\n",
       "    <tr>\n",
       "      <th>1</th>\n",
       "      <td>JP</td>\n",
       "      <td>Fujioka</td>\n",
       "      <td>5286283223229</td>\n",
       "      <td>Asia/Tokyo</td>\n",
       "    </tr>\n",
       "    <tr>\n",
       "      <th>2</th>\n",
       "      <td>AU</td>\n",
       "      <td>Carindale</td>\n",
       "      <td>5324066396422</td>\n",
       "      <td>Australia/Brisbane</td>\n",
       "    </tr>\n",
       "    <tr>\n",
       "      <th>3</th>\n",
       "      <td>JP</td>\n",
       "      <td>Yao</td>\n",
       "      <td>4730125966337</td>\n",
       "      <td>Asia/Tokyo</td>\n",
       "    </tr>\n",
       "    <tr>\n",
       "      <th>4</th>\n",
       "      <td>PK</td>\n",
       "      <td>Naushahra Virkan</td>\n",
       "      <td>9619713549372</td>\n",
       "      <td>Asia/Karachi</td>\n",
       "    </tr>\n",
       "  </tbody>\n",
       "</table>\n",
       "</div>"
      ],
      "text/plain": [
       "  code        store_name    product_ean            location\n",
       "0   GB           Newbury  6528474892715       Europe/London\n",
       "1   JP           Fujioka  5286283223229          Asia/Tokyo\n",
       "2   AU         Carindale  5324066396422  Australia/Brisbane\n",
       "3   JP               Yao  4730125966337          Asia/Tokyo\n",
       "4   PK  Naushahra Virkan  9619713549372        Asia/Karachi"
      ]
     },
     "execution_count": 21,
     "metadata": {},
     "output_type": "execute_result"
    }
   ],
   "source": [
    "filename = \"084/product.csv\"\n",
    "product = pd.read_csv(filename, sep='\\t')\n",
    "product.head()"
   ]
  },
  {
   "cell_type": "code",
   "execution_count": 22,
   "metadata": {},
   "outputs": [
    {
     "data": {
      "text/html": [
       "<div>\n",
       "<style scoped>\n",
       "    .dataframe tbody tr th:only-of-type {\n",
       "        vertical-align: middle;\n",
       "    }\n",
       "\n",
       "    .dataframe tbody tr th {\n",
       "        vertical-align: top;\n",
       "    }\n",
       "\n",
       "    .dataframe thead th {\n",
       "        text-align: right;\n",
       "    }\n",
       "</style>\n",
       "<table border=\"1\" class=\"dataframe\">\n",
       "  <thead>\n",
       "    <tr style=\"text-align: right;\">\n",
       "      <th></th>\n",
       "      <th>user_id</th>\n",
       "      <th>pct_rage_click</th>\n",
       "      <th>page_activity_duration</th>\n",
       "      <th>pct_wild_mouse</th>\n",
       "      <th>product_ean</th>\n",
       "      <th>pct_click_product_info</th>\n",
       "      <th>pct_input</th>\n",
       "      <th>pct_scrandom</th>\n",
       "      <th>total_load_time</th>\n",
       "      <th>pct_click</th>\n",
       "      <th>...</th>\n",
       "      <th>mouse_move_total_rel_distance</th>\n",
       "      <th>session_start</th>\n",
       "      <th>screen_height</th>\n",
       "      <th>pct_mouse_move</th>\n",
       "      <th>browser_name</th>\n",
       "      <th>pct_scroll_move</th>\n",
       "      <th>session_id</th>\n",
       "      <th>scroll_move_total_rel_distance</th>\n",
       "      <th>session_duration</th>\n",
       "      <th>wild_mouse_duration</th>\n",
       "    </tr>\n",
       "  </thead>\n",
       "  <tbody>\n",
       "    <tr>\n",
       "      <th>0</th>\n",
       "      <td>1267</td>\n",
       "      <td>13.36096</td>\n",
       "      <td>11.11023</td>\n",
       "      <td>57.22747</td>\n",
       "      <td>5118402349247</td>\n",
       "      <td>61.27995</td>\n",
       "      <td>1.69380</td>\n",
       "      <td>34.23153</td>\n",
       "      <td>9.49291</td>\n",
       "      <td>11.96745</td>\n",
       "      <td>...</td>\n",
       "      <td>9.99263</td>\n",
       "      <td>2021-08-31 01:16:45</td>\n",
       "      <td>600</td>\n",
       "      <td>9.55140</td>\n",
       "      <td>edge</td>\n",
       "      <td>77.30550</td>\n",
       "      <td>1011277</td>\n",
       "      <td>8.30487</td>\n",
       "      <td>145.66025</td>\n",
       "      <td>8.27685</td>\n",
       "    </tr>\n",
       "    <tr>\n",
       "      <th>1</th>\n",
       "      <td>1831</td>\n",
       "      <td>39.43056</td>\n",
       "      <td>11.38646</td>\n",
       "      <td>48.81767</td>\n",
       "      <td>6613735863389</td>\n",
       "      <td>55.97373</td>\n",
       "      <td>1.93407</td>\n",
       "      <td>58.66919</td>\n",
       "      <td>1.26378</td>\n",
       "      <td>10.36340</td>\n",
       "      <td>...</td>\n",
       "      <td>10.30287</td>\n",
       "      <td>2021-05-28 17:34:01</td>\n",
       "      <td>768</td>\n",
       "      <td>8.07874</td>\n",
       "      <td>chrome</td>\n",
       "      <td>61.26521</td>\n",
       "      <td>539491</td>\n",
       "      <td>7.70199</td>\n",
       "      <td>109.48956</td>\n",
       "      <td>8.38637</td>\n",
       "    </tr>\n",
       "    <tr>\n",
       "      <th>2</th>\n",
       "      <td>374</td>\n",
       "      <td>62.84361</td>\n",
       "      <td>11.17206</td>\n",
       "      <td>53.92373</td>\n",
       "      <td>7388729766852</td>\n",
       "      <td>57.18573</td>\n",
       "      <td>1.59960</td>\n",
       "      <td>47.47953</td>\n",
       "      <td>3.28962</td>\n",
       "      <td>5.02218</td>\n",
       "      <td>...</td>\n",
       "      <td>7.49351</td>\n",
       "      <td>2018-12-28 16:43:17</td>\n",
       "      <td>1024</td>\n",
       "      <td>6.88911</td>\n",
       "      <td>chrome</td>\n",
       "      <td>48.98359</td>\n",
       "      <td>394667</td>\n",
       "      <td>8.17021</td>\n",
       "      <td>204.12507</td>\n",
       "      <td>8.36077</td>\n",
       "    </tr>\n",
       "    <tr>\n",
       "      <th>3</th>\n",
       "      <td>2260</td>\n",
       "      <td>64.68865</td>\n",
       "      <td>6.33869</td>\n",
       "      <td>37.68672</td>\n",
       "      <td>1190955887968</td>\n",
       "      <td>54.34917</td>\n",
       "      <td>0.44924</td>\n",
       "      <td>39.85515</td>\n",
       "      <td>2.25213</td>\n",
       "      <td>11.32430</td>\n",
       "      <td>...</td>\n",
       "      <td>8.26995</td>\n",
       "      <td>2022-02-03 06:22:50</td>\n",
       "      <td>800</td>\n",
       "      <td>7.53323</td>\n",
       "      <td>edge</td>\n",
       "      <td>66.82098</td>\n",
       "      <td>748123</td>\n",
       "      <td>7.97703</td>\n",
       "      <td>123.40293</td>\n",
       "      <td>4.17809</td>\n",
       "    </tr>\n",
       "    <tr>\n",
       "      <th>4</th>\n",
       "      <td>779</td>\n",
       "      <td>63.11689</td>\n",
       "      <td>4.82687</td>\n",
       "      <td>54.53248</td>\n",
       "      <td>9538008640320</td>\n",
       "      <td>27.01917</td>\n",
       "      <td>1.21089</td>\n",
       "      <td>15.93508</td>\n",
       "      <td>4.11748</td>\n",
       "      <td>10.18901</td>\n",
       "      <td>...</td>\n",
       "      <td>12.31943</td>\n",
       "      <td>2021-03-10 00:03:46</td>\n",
       "      <td>768</td>\n",
       "      <td>9.00901</td>\n",
       "      <td>mobile</td>\n",
       "      <td>75.85706</td>\n",
       "      <td>758679</td>\n",
       "      <td>9.01442</td>\n",
       "      <td>179.22699</td>\n",
       "      <td>8.08819</td>\n",
       "    </tr>\n",
       "  </tbody>\n",
       "</table>\n",
       "<p>5 rows × 25 columns</p>\n",
       "</div>"
      ],
      "text/plain": [
       "   user_id  pct_rage_click  page_activity_duration  pct_wild_mouse  \\\n",
       "0     1267        13.36096                11.11023        57.22747   \n",
       "1     1831        39.43056                11.38646        48.81767   \n",
       "2      374        62.84361                11.17206        53.92373   \n",
       "3     2260        64.68865                 6.33869        37.68672   \n",
       "4      779        63.11689                 4.82687        54.53248   \n",
       "\n",
       "     product_ean  pct_click_product_info  pct_input  pct_scrandom  \\\n",
       "0  5118402349247                61.27995    1.69380      34.23153   \n",
       "1  6613735863389                55.97373    1.93407      58.66919   \n",
       "2  7388729766852                57.18573    1.59960      47.47953   \n",
       "3  1190955887968                54.34917    0.44924      39.85515   \n",
       "4  9538008640320                27.01917    1.21089      15.93508   \n",
       "\n",
       "   total_load_time  pct_click  ... mouse_move_total_rel_distance  \\\n",
       "0          9.49291   11.96745  ...                       9.99263   \n",
       "1          1.26378   10.36340  ...                      10.30287   \n",
       "2          3.28962    5.02218  ...                       7.49351   \n",
       "3          2.25213   11.32430  ...                       8.26995   \n",
       "4          4.11748   10.18901  ...                      12.31943   \n",
       "\n",
       "         session_start  screen_height  pct_mouse_move  browser_name  \\\n",
       "0  2021-08-31 01:16:45            600         9.55140          edge   \n",
       "1  2021-05-28 17:34:01            768         8.07874        chrome   \n",
       "2  2018-12-28 16:43:17           1024         6.88911        chrome   \n",
       "3  2022-02-03 06:22:50            800         7.53323          edge   \n",
       "4  2021-03-10 00:03:46            768         9.00901        mobile   \n",
       "\n",
       "   pct_scroll_move session_id scroll_move_total_rel_distance  \\\n",
       "0         77.30550    1011277                        8.30487   \n",
       "1         61.26521     539491                        7.70199   \n",
       "2         48.98359     394667                        8.17021   \n",
       "3         66.82098     748123                        7.97703   \n",
       "4         75.85706     758679                        9.01442   \n",
       "\n",
       "   session_duration wild_mouse_duration  \n",
       "0         145.66025             8.27685  \n",
       "1         109.48956             8.38637  \n",
       "2         204.12507             8.36077  \n",
       "3         123.40293             4.17809  \n",
       "4         179.22699             8.08819  \n",
       "\n",
       "[5 rows x 25 columns]"
      ]
     },
     "execution_count": 22,
     "metadata": {},
     "output_type": "execute_result"
    }
   ],
   "source": [
    "filename2 = \"084/session.csv\"\n",
    "session = pd.read_csv(filename2, sep='\\t')\n",
    "session.head()"
   ]
  },
  {
   "cell_type": "code",
   "execution_count": 23,
   "metadata": {},
   "outputs": [
    {
     "data": {
      "text/html": [
       "<div>\n",
       "<style scoped>\n",
       "    .dataframe tbody tr th:only-of-type {\n",
       "        vertical-align: middle;\n",
       "    }\n",
       "\n",
       "    .dataframe tbody tr th {\n",
       "        vertical-align: top;\n",
       "    }\n",
       "\n",
       "    .dataframe thead th {\n",
       "        text-align: right;\n",
       "    }\n",
       "</style>\n",
       "<table border=\"1\" class=\"dataframe\">\n",
       "  <thead>\n",
       "    <tr style=\"text-align: right;\">\n",
       "      <th></th>\n",
       "      <th>address</th>\n",
       "      <th>birthdate</th>\n",
       "      <th>sex</th>\n",
       "      <th>registration</th>\n",
       "      <th>name</th>\n",
       "      <th>username</th>\n",
       "      <th>mail</th>\n",
       "      <th>user_id</th>\n",
       "      <th>job</th>\n",
       "      <th>residence</th>\n",
       "      <th>race</th>\n",
       "    </tr>\n",
       "  </thead>\n",
       "  <tbody>\n",
       "    <tr>\n",
       "      <th>0</th>\n",
       "      <td>Čajkovského 3\\n203 70 Karolinka</td>\n",
       "      <td>2010-01-17</td>\n",
       "      <td>M</td>\n",
       "      <td>2015-03-12</td>\n",
       "      <td>Bohuslav Novotný</td>\n",
       "      <td>lucienemcova</td>\n",
       "      <td>vojtech17@chello.cz</td>\n",
       "      <td>172</td>\n",
       "      <td>NaN</td>\n",
       "      <td>Závrchy 7\\n220 65 Luhačovice</td>\n",
       "      <td>unspecified</td>\n",
       "    </tr>\n",
       "    <tr>\n",
       "      <th>1</th>\n",
       "      <td>PSC 7369, Box 4045\\nAPO AA 65240</td>\n",
       "      <td>1909-01-15</td>\n",
       "      <td>NaN</td>\n",
       "      <td>2019-07-12</td>\n",
       "      <td>Richard Walker</td>\n",
       "      <td>williamspeter</td>\n",
       "      <td>megan55@yahoo.com</td>\n",
       "      <td>2091</td>\n",
       "      <td>NaN</td>\n",
       "      <td>NaN</td>\n",
       "      <td>unspecified</td>\n",
       "    </tr>\n",
       "    <tr>\n",
       "      <th>2</th>\n",
       "      <td>Piazza Grisoni, 52 Piano 9\\n09020, Villanovafr...</td>\n",
       "      <td>1970-07-04</td>\n",
       "      <td>M</td>\n",
       "      <td>2016-06-30</td>\n",
       "      <td>Dario Buscetta</td>\n",
       "      <td>jmajewski</td>\n",
       "      <td>gioeleturati@outlook.com</td>\n",
       "      <td>146</td>\n",
       "      <td>NaN</td>\n",
       "      <td>NaN</td>\n",
       "      <td>NaN</td>\n",
       "    </tr>\n",
       "    <tr>\n",
       "      <th>3</th>\n",
       "      <td>Rua Vitor Gabriel Gonçalves, 8\\nVila Independe...</td>\n",
       "      <td>1915-10-01</td>\n",
       "      <td>NaN</td>\n",
       "      <td>2013/09/29</td>\n",
       "      <td>Bianca Cardoso</td>\n",
       "      <td>melissa88</td>\n",
       "      <td>nrodrigues@ig.com.br</td>\n",
       "      <td>659</td>\n",
       "      <td>Educador</td>\n",
       "      <td>NaN</td>\n",
       "      <td>asian</td>\n",
       "    </tr>\n",
       "    <tr>\n",
       "      <th>4</th>\n",
       "      <td>Pod Čertovou Skalou 4\\n455 19 Nalžovské Hory</td>\n",
       "      <td>NaN</td>\n",
       "      <td>NaN</td>\n",
       "      <td>16 Aug 2017</td>\n",
       "      <td>Tomáš Blažek</td>\n",
       "      <td>frantisekprochazka</td>\n",
       "      <td>kadlecovasara@chello.cz</td>\n",
       "      <td>1196</td>\n",
       "      <td>NaN</td>\n",
       "      <td>NaN</td>\n",
       "      <td>NaN</td>\n",
       "    </tr>\n",
       "  </tbody>\n",
       "</table>\n",
       "</div>"
      ],
      "text/plain": [
       "                                             address   birthdate  sex  \\\n",
       "0                    Čajkovského 3\\n203 70 Karolinka  2010-01-17    M   \n",
       "1                   PSC 7369, Box 4045\\nAPO AA 65240  1909-01-15  NaN   \n",
       "2  Piazza Grisoni, 52 Piano 9\\n09020, Villanovafr...  1970-07-04    M   \n",
       "3  Rua Vitor Gabriel Gonçalves, 8\\nVila Independe...  1915-10-01  NaN   \n",
       "4       Pod Čertovou Skalou 4\\n455 19 Nalžovské Hory         NaN  NaN   \n",
       "\n",
       "  registration              name            username  \\\n",
       "0   2015-03-12  Bohuslav Novotný        lucienemcova   \n",
       "1   2019-07-12    Richard Walker       williamspeter   \n",
       "2   2016-06-30    Dario Buscetta           jmajewski   \n",
       "3   2013/09/29    Bianca Cardoso           melissa88   \n",
       "4  16 Aug 2017      Tomáš Blažek  frantisekprochazka   \n",
       "\n",
       "                       mail  user_id       job                     residence  \\\n",
       "0       vojtech17@chello.cz      172       NaN  Závrchy 7\\n220 65 Luhačovice   \n",
       "1         megan55@yahoo.com     2091       NaN                           NaN   \n",
       "2  gioeleturati@outlook.com      146       NaN                           NaN   \n",
       "3      nrodrigues@ig.com.br      659  Educador                           NaN   \n",
       "4   kadlecovasara@chello.cz     1196       NaN                           NaN   \n",
       "\n",
       "          race  \n",
       "0  unspecified  \n",
       "1  unspecified  \n",
       "2          NaN  \n",
       "3        asian  \n",
       "4          NaN  "
      ]
     },
     "execution_count": 23,
     "metadata": {},
     "output_type": "execute_result"
    }
   ],
   "source": [
    "filename3 = \"084/user.csv\"\n",
    "user = pd.read_csv(filename3, sep='\\t')\n",
    "user.head()"
   ]
  },
  {
   "cell_type": "markdown",
   "metadata": {},
   "source": [
    "Základný opis dát spolu s ich charakteristikami"
   ]
  },
  {
   "cell_type": "markdown",
   "metadata": {},
   "source": [
    "DATASET:product "
   ]
  },
  {
   "cell_type": "markdown",
   "metadata": {},
   "source": [
    "EDA s vizualizáciou"
   ]
  },
  {
   "cell_type": "markdown",
   "metadata": {
    "tags": []
   },
   "source": [
    "Dataset product.csv obsahuje dokopy 14915 záznamov popisu produktov. Počet všetkých atribútov týchto záznamov je 4. \n",
    "\n",
    "Zoznam jednotlivých atribútov:\n",
    "\n",
    "\tproduct_ean\n",
    "\tstore_name\n",
    "\tcode\n",
    "\tlocation"
   ]
  },
  {
   "cell_type": "code",
   "execution_count": 24,
   "metadata": {},
   "outputs": [
    {
     "data": {
      "text/plain": [
       "(14915, 4)"
      ]
     },
     "execution_count": 24,
     "metadata": {},
     "output_type": "execute_result"
    }
   ],
   "source": [
    "product.shape"
   ]
  },
  {
   "cell_type": "code",
   "execution_count": 25,
   "metadata": {},
   "outputs": [
    {
     "name": "stdout",
     "output_type": "stream",
     "text": [
      "<class 'pandas.core.frame.DataFrame'>\n",
      "RangeIndex: 14915 entries, 0 to 14914\n",
      "Data columns (total 4 columns):\n",
      " #   Column       Non-Null Count  Dtype \n",
      "---  ------       --------------  ----- \n",
      " 0   code         14895 non-null  object\n",
      " 1   store_name   14915 non-null  object\n",
      " 2   product_ean  14915 non-null  int64 \n",
      " 3   location     14915 non-null  object\n",
      "dtypes: int64(1), object(3)\n",
      "memory usage: 466.2+ KB\n"
     ]
    }
   ],
   "source": [
    "product.info()"
   ]
  },
  {
   "cell_type": "code",
   "execution_count": 26,
   "metadata": {},
   "outputs": [
    {
     "data": {
      "text/html": [
       "<div>\n",
       "<style scoped>\n",
       "    .dataframe tbody tr th:only-of-type {\n",
       "        vertical-align: middle;\n",
       "    }\n",
       "\n",
       "    .dataframe tbody tr th {\n",
       "        vertical-align: top;\n",
       "    }\n",
       "\n",
       "    .dataframe thead th {\n",
       "        text-align: right;\n",
       "    }\n",
       "</style>\n",
       "<table border=\"1\" class=\"dataframe\">\n",
       "  <thead>\n",
       "    <tr style=\"text-align: right;\">\n",
       "      <th></th>\n",
       "      <th>product_ean</th>\n",
       "    </tr>\n",
       "  </thead>\n",
       "  <tbody>\n",
       "    <tr>\n",
       "      <th>count</th>\n",
       "      <td>1.491500e+04</td>\n",
       "    </tr>\n",
       "    <tr>\n",
       "      <th>mean</th>\n",
       "      <td>5.005494e+12</td>\n",
       "    </tr>\n",
       "    <tr>\n",
       "      <th>std</th>\n",
       "      <td>2.883216e+12</td>\n",
       "    </tr>\n",
       "    <tr>\n",
       "      <th>min</th>\n",
       "      <td>8.830915e+08</td>\n",
       "    </tr>\n",
       "    <tr>\n",
       "      <th>25%</th>\n",
       "      <td>2.505067e+12</td>\n",
       "    </tr>\n",
       "    <tr>\n",
       "      <th>50%</th>\n",
       "      <td>5.006744e+12</td>\n",
       "    </tr>\n",
       "    <tr>\n",
       "      <th>75%</th>\n",
       "      <td>7.507479e+12</td>\n",
       "    </tr>\n",
       "    <tr>\n",
       "      <th>max</th>\n",
       "      <td>9.999557e+12</td>\n",
       "    </tr>\n",
       "  </tbody>\n",
       "</table>\n",
       "</div>"
      ],
      "text/plain": [
       "        product_ean\n",
       "count  1.491500e+04\n",
       "mean   5.005494e+12\n",
       "std    2.883216e+12\n",
       "min    8.830915e+08\n",
       "25%    2.505067e+12\n",
       "50%    5.006744e+12\n",
       "75%    7.507479e+12\n",
       "max    9.999557e+12"
      ]
     },
     "execution_count": 26,
     "metadata": {},
     "output_type": "execute_result"
    }
   ],
   "source": [
    "product.describe()"
   ]
  },
  {
   "cell_type": "markdown",
   "metadata": {},
   "source": [
    "Analýza jednotlivých atribútov v datasete"
   ]
  },
  {
   "cell_type": "markdown",
   "metadata": {},
   "source": [
    "Atribúty z datasetu product.csv, ktoré nás budú zaujímať sú najmä product_ean a location. Pri\n",
    "skúmaní môžeme napríklad zisťovať, či existuje nejaká závislosť medzi lokáciou a závislou hodnotou premennej “ack” (predikovaná premenna) indikujúcu nákup zákazníka počas jedného sedenia (session) v e-obchode. Atribút product_ean budeme potrebovať pre vyhľadávanie hodnôt v druhom\n",
    "datasete session.csv, keďže tento atribút sa nachádza v oboch datasetoch."
   ]
  },
  {
   "cell_type": "code",
   "execution_count": 36,
   "metadata": {},
   "outputs": [
    {
     "data": {
      "text/plain": [
       "code\n",
       "US    2504\n",
       "IN    1078\n",
       "RU     820\n",
       "DE     760\n",
       "BR     667\n",
       "      ... \n",
       "MN      10\n",
       "SA       9\n",
       "TJ       9\n",
       "ML       8\n",
       "LR       6\n",
       "Name: count, Length: 133, dtype: int64"
      ]
     },
     "execution_count": 36,
     "metadata": {},
     "output_type": "execute_result"
    }
   ],
   "source": [
    "product.code.value_counts()"
   ]
  },
  {
   "cell_type": "code",
   "execution_count": 44,
   "metadata": {},
   "outputs": [
    {
     "data": {
      "text/plain": [
       "location\n",
       "Asia/Kolkata        1078\n",
       "America/New_York    1070\n",
       "Europe/Berlin        760\n",
       "America/Chicago      689\n",
       "Europe/London        620\n",
       "                    ... \n",
       "Asia/Yakutsk           9\n",
       "Asia/Dushanbe          9\n",
       "Asia/Riyadh            9\n",
       "Africa/Bamako          8\n",
       "Africa/Monrovia        6\n",
       "Name: count, Length: 184, dtype: int64"
      ]
     },
     "execution_count": 44,
     "metadata": {},
     "output_type": "execute_result"
    }
   ],
   "source": [
    "product.location.value_counts()"
   ]
  },
  {
   "cell_type": "code",
   "execution_count": 41,
   "metadata": {},
   "outputs": [
    {
     "data": {
      "text/plain": [
       "store_name\n",
       "New City             30\n",
       "Inverness            28\n",
       "Kobuleti             27\n",
       "Gilbert              27\n",
       "Beidao               26\n",
       "                     ..\n",
       "Sheoganj              6\n",
       "Curitiba              6\n",
       "Granger               6\n",
       "Gates-North Gates     5\n",
       "Custoias              5\n",
       "Name: count, Length: 958, dtype: int64"
      ]
     },
     "execution_count": 41,
     "metadata": {},
     "output_type": "execute_result"
    }
   ],
   "source": [
    "product.store_name.value_counts()"
   ]
  },
  {
   "cell_type": "code",
   "execution_count": 46,
   "metadata": {},
   "outputs": [
    {
     "data": {
      "text/plain": [
       "product_ean\n",
       "6528474892715    1\n",
       "4140694863515    1\n",
       "699830198157     1\n",
       "3038483943962    1\n",
       "3903022305467    1\n",
       "                ..\n",
       "8662802065650    1\n",
       "1350851393455    1\n",
       "1863129911850    1\n",
       "189871915665     1\n",
       "9345956116292    1\n",
       "Name: count, Length: 14915, dtype: int64"
      ]
     },
     "execution_count": 46,
     "metadata": {},
     "output_type": "execute_result"
    }
   ],
   "source": [
    "product.product_ean.value_counts()"
   ]
  },
  {
   "cell_type": "markdown",
   "metadata": {},
   "source": [
    "Identifikácia problémov v dátach s prvotným riešením"
   ]
  },
  {
   "cell_type": "code",
   "execution_count": null,
   "metadata": {},
   "outputs": [],
   "source": []
  },
  {
   "cell_type": "markdown",
   "metadata": {},
   "source": [
    "Overenie duplicitných záznamov"
   ]
  },
  {
   "cell_type": "code",
   "execution_count": 27,
   "metadata": {},
   "outputs": [
    {
     "name": "stdout",
     "output_type": "stream",
     "text": [
      "Počet záznamov v datasete: 14915\n",
      "V datasete sa nachádza: 0 duplikátov.\n"
     ]
    }
   ],
   "source": [
    "duplicate = product[product.duplicated()]\n",
    "product = product.drop_duplicates()\n",
    "print(\"Počet záznamov v datasete: \"+str(len(product)))\n",
    "print(\"V datasete sa nachádza: \" + str(len(duplicate)) + \" duplikátov.\")"
   ]
  },
  {
   "cell_type": "markdown",
   "metadata": {},
   "source": [
    "DATASET: session"
   ]
  },
  {
   "cell_type": "markdown",
   "metadata": {},
   "source": [
    "Dataset session.csv obsahuje dokopy 11046 záznamov popisu produktov. Počet všetkých atribútov týchto záznamov je 25. "
   ]
  },
  {
   "cell_type": "code",
   "execution_count": 28,
   "metadata": {},
   "outputs": [
    {
     "data": {
      "text/plain": [
       "(11046, 25)"
      ]
     },
     "execution_count": 28,
     "metadata": {},
     "output_type": "execute_result"
    }
   ],
   "source": [
    "session.shape"
   ]
  },
  {
   "cell_type": "code",
   "execution_count": 29,
   "metadata": {},
   "outputs": [
    {
     "name": "stdout",
     "output_type": "stream",
     "text": [
      "<class 'pandas.core.frame.DataFrame'>\n",
      "RangeIndex: 11046 entries, 0 to 11045\n",
      "Data columns (total 25 columns):\n",
      " #   Column                          Non-Null Count  Dtype  \n",
      "---  ------                          --------------  -----  \n",
      " 0   user_id                         11046 non-null  int64  \n",
      " 1   pct_rage_click                  11035 non-null  float64\n",
      " 2   page_activity_duration          11035 non-null  float64\n",
      " 3   pct_wild_mouse                  11035 non-null  float64\n",
      " 4   product_ean                     11046 non-null  int64  \n",
      " 5   pct_click_product_info          11035 non-null  float64\n",
      " 6   pct_input                       11035 non-null  float64\n",
      " 7   pct_scrandom                    11035 non-null  float64\n",
      " 8   total_load_time                 11046 non-null  float64\n",
      " 9   pct_click                       11035 non-null  float64\n",
      " 10  screen_width                    11046 non-null  object \n",
      " 11  pct_scroll_move_duration        11035 non-null  float64\n",
      " 12  ack                             11046 non-null  float64\n",
      " 13  pct_mouse_click                 11035 non-null  float64\n",
      " 14  pct_doubleclick                 11035 non-null  float64\n",
      " 15  mouse_move_total_rel_distance   11035 non-null  float64\n",
      " 16  session_start                   11046 non-null  object \n",
      " 17  screen_height                   11046 non-null  object \n",
      " 18  pct_mouse_move                  11035 non-null  float64\n",
      " 19  browser_name                    11046 non-null  object \n",
      " 20  pct_scroll_move                 11035 non-null  float64\n",
      " 21  session_id                      11046 non-null  int64  \n",
      " 22  scroll_move_total_rel_distance  11034 non-null  float64\n",
      " 23  session_duration                11046 non-null  float64\n",
      " 24  wild_mouse_duration             11035 non-null  float64\n",
      "dtypes: float64(18), int64(3), object(4)\n",
      "memory usage: 2.1+ MB\n"
     ]
    }
   ],
   "source": [
    "session.info()"
   ]
  },
  {
   "cell_type": "code",
   "execution_count": 30,
   "metadata": {},
   "outputs": [
    {
     "data": {
      "text/html": [
       "<div>\n",
       "<style scoped>\n",
       "    .dataframe tbody tr th:only-of-type {\n",
       "        vertical-align: middle;\n",
       "    }\n",
       "\n",
       "    .dataframe tbody tr th {\n",
       "        vertical-align: top;\n",
       "    }\n",
       "\n",
       "    .dataframe thead th {\n",
       "        text-align: right;\n",
       "    }\n",
       "</style>\n",
       "<table border=\"1\" class=\"dataframe\">\n",
       "  <thead>\n",
       "    <tr style=\"text-align: right;\">\n",
       "      <th></th>\n",
       "      <th>user_id</th>\n",
       "      <th>pct_rage_click</th>\n",
       "      <th>page_activity_duration</th>\n",
       "      <th>pct_wild_mouse</th>\n",
       "      <th>product_ean</th>\n",
       "      <th>pct_click_product_info</th>\n",
       "      <th>pct_input</th>\n",
       "      <th>pct_scrandom</th>\n",
       "      <th>total_load_time</th>\n",
       "      <th>pct_click</th>\n",
       "      <th>...</th>\n",
       "      <th>ack</th>\n",
       "      <th>pct_mouse_click</th>\n",
       "      <th>pct_doubleclick</th>\n",
       "      <th>mouse_move_total_rel_distance</th>\n",
       "      <th>pct_mouse_move</th>\n",
       "      <th>pct_scroll_move</th>\n",
       "      <th>session_id</th>\n",
       "      <th>scroll_move_total_rel_distance</th>\n",
       "      <th>session_duration</th>\n",
       "      <th>wild_mouse_duration</th>\n",
       "    </tr>\n",
       "  </thead>\n",
       "  <tbody>\n",
       "    <tr>\n",
       "      <th>count</th>\n",
       "      <td>11046.000000</td>\n",
       "      <td>11035.000000</td>\n",
       "      <td>11035.000000</td>\n",
       "      <td>11035.000000</td>\n",
       "      <td>1.104600e+04</td>\n",
       "      <td>11035.000000</td>\n",
       "      <td>11035.000000</td>\n",
       "      <td>11035.000000</td>\n",
       "      <td>11046.000000</td>\n",
       "      <td>11035.000000</td>\n",
       "      <td>...</td>\n",
       "      <td>11046.000000</td>\n",
       "      <td>11035.000000</td>\n",
       "      <td>11035.000000</td>\n",
       "      <td>11035.000000</td>\n",
       "      <td>11035.000000</td>\n",
       "      <td>11035.000000</td>\n",
       "      <td>1.104600e+04</td>\n",
       "      <td>11034.000000</td>\n",
       "      <td>11046.000000</td>\n",
       "      <td>11035.000000</td>\n",
       "    </tr>\n",
       "    <tr>\n",
       "      <th>mean</th>\n",
       "      <td>1255.780645</td>\n",
       "      <td>49.335913</td>\n",
       "      <td>8.690997</td>\n",
       "      <td>48.587438</td>\n",
       "      <td>5.028290e+12</td>\n",
       "      <td>49.111376</td>\n",
       "      <td>1.178877</td>\n",
       "      <td>50.285934</td>\n",
       "      <td>4.005360</td>\n",
       "      <td>9.289874</td>\n",
       "      <td>...</td>\n",
       "      <td>0.548162</td>\n",
       "      <td>9.682500</td>\n",
       "      <td>9.456206</td>\n",
       "      <td>9.292634</td>\n",
       "      <td>8.508854</td>\n",
       "      <td>52.182707</td>\n",
       "      <td>7.518338e+05</td>\n",
       "      <td>8.519333</td>\n",
       "      <td>150.604875</td>\n",
       "      <td>6.792734</td>\n",
       "    </tr>\n",
       "    <tr>\n",
       "      <th>std</th>\n",
       "      <td>718.615742</td>\n",
       "      <td>13.942751</td>\n",
       "      <td>2.233684</td>\n",
       "      <td>13.214715</td>\n",
       "      <td>2.890200e+12</td>\n",
       "      <td>13.296536</td>\n",
       "      <td>2.160966</td>\n",
       "      <td>12.439419</td>\n",
       "      <td>2.805904</td>\n",
       "      <td>2.028780</td>\n",
       "      <td>...</td>\n",
       "      <td>0.497698</td>\n",
       "      <td>2.473803</td>\n",
       "      <td>2.002375</td>\n",
       "      <td>2.118023</td>\n",
       "      <td>0.998451</td>\n",
       "      <td>13.502190</td>\n",
       "      <td>4.315524e+05</td>\n",
       "      <td>1.007736</td>\n",
       "      <td>60.977556</td>\n",
       "      <td>1.410734</td>\n",
       "    </tr>\n",
       "    <tr>\n",
       "      <th>min</th>\n",
       "      <td>0.000000</td>\n",
       "      <td>0.000000</td>\n",
       "      <td>0.737390</td>\n",
       "      <td>0.000000</td>\n",
       "      <td>2.412431e+09</td>\n",
       "      <td>0.000000</td>\n",
       "      <td>0.000000</td>\n",
       "      <td>0.000000</td>\n",
       "      <td>0.013140</td>\n",
       "      <td>1.090310</td>\n",
       "      <td>...</td>\n",
       "      <td>0.000000</td>\n",
       "      <td>0.000000</td>\n",
       "      <td>1.699640</td>\n",
       "      <td>0.342750</td>\n",
       "      <td>4.891520</td>\n",
       "      <td>0.000000</td>\n",
       "      <td>1.030000e+03</td>\n",
       "      <td>4.470330</td>\n",
       "      <td>-92.919090</td>\n",
       "      <td>0.602960</td>\n",
       "    </tr>\n",
       "    <tr>\n",
       "      <th>25%</th>\n",
       "      <td>636.000000</td>\n",
       "      <td>39.724560</td>\n",
       "      <td>6.988780</td>\n",
       "      <td>39.763010</td>\n",
       "      <td>2.556155e+12</td>\n",
       "      <td>40.187780</td>\n",
       "      <td>0.609060</td>\n",
       "      <td>41.917425</td>\n",
       "      <td>1.938618</td>\n",
       "      <td>8.281450</td>\n",
       "      <td>...</td>\n",
       "      <td>0.000000</td>\n",
       "      <td>8.010070</td>\n",
       "      <td>8.297860</td>\n",
       "      <td>8.042850</td>\n",
       "      <td>7.839245</td>\n",
       "      <td>43.071045</td>\n",
       "      <td>3.783465e+05</td>\n",
       "      <td>7.839832</td>\n",
       "      <td>109.499407</td>\n",
       "      <td>5.932995</td>\n",
       "    </tr>\n",
       "    <tr>\n",
       "      <th>50%</th>\n",
       "      <td>1250.500000</td>\n",
       "      <td>49.316090</td>\n",
       "      <td>8.828940</td>\n",
       "      <td>48.687750</td>\n",
       "      <td>5.008988e+12</td>\n",
       "      <td>49.064000</td>\n",
       "      <td>0.773720</td>\n",
       "      <td>50.249340</td>\n",
       "      <td>3.374895</td>\n",
       "      <td>9.758960</td>\n",
       "      <td>...</td>\n",
       "      <td>1.000000</td>\n",
       "      <td>9.677540</td>\n",
       "      <td>9.730900</td>\n",
       "      <td>9.702120</td>\n",
       "      <td>8.500650</td>\n",
       "      <td>52.143120</td>\n",
       "      <td>7.537820e+05</td>\n",
       "      <td>8.518630</td>\n",
       "      <td>150.397070</td>\n",
       "      <td>6.805400</td>\n",
       "    </tr>\n",
       "    <tr>\n",
       "      <th>75%</th>\n",
       "      <td>1884.000000</td>\n",
       "      <td>58.940205</td>\n",
       "      <td>10.420815</td>\n",
       "      <td>57.461865</td>\n",
       "      <td>7.556391e+12</td>\n",
       "      <td>58.072415</td>\n",
       "      <td>1.073915</td>\n",
       "      <td>58.698980</td>\n",
       "      <td>5.401983</td>\n",
       "      <td>10.666375</td>\n",
       "      <td>...</td>\n",
       "      <td>1.000000</td>\n",
       "      <td>11.320900</td>\n",
       "      <td>10.820610</td>\n",
       "      <td>10.715855</td>\n",
       "      <td>9.191965</td>\n",
       "      <td>61.328060</td>\n",
       "      <td>1.122913e+06</td>\n",
       "      <td>9.202202</td>\n",
       "      <td>191.316595</td>\n",
       "      <td>7.638670</td>\n",
       "    </tr>\n",
       "    <tr>\n",
       "      <th>max</th>\n",
       "      <td>2499.000000</td>\n",
       "      <td>100.000000</td>\n",
       "      <td>15.557980</td>\n",
       "      <td>100.000000</td>\n",
       "      <td>9.998981e+12</td>\n",
       "      <td>100.000000</td>\n",
       "      <td>100.000000</td>\n",
       "      <td>100.000000</td>\n",
       "      <td>23.115910</td>\n",
       "      <td>14.642410</td>\n",
       "      <td>...</td>\n",
       "      <td>1.000000</td>\n",
       "      <td>21.039530</td>\n",
       "      <td>16.734470</td>\n",
       "      <td>16.348300</td>\n",
       "      <td>11.981490</td>\n",
       "      <td>100.000000</td>\n",
       "      <td>1.499885e+06</td>\n",
       "      <td>12.324070</td>\n",
       "      <td>391.029670</td>\n",
       "      <td>12.862990</td>\n",
       "    </tr>\n",
       "  </tbody>\n",
       "</table>\n",
       "<p>8 rows × 21 columns</p>\n",
       "</div>"
      ],
      "text/plain": [
       "            user_id  pct_rage_click  page_activity_duration  pct_wild_mouse  \\\n",
       "count  11046.000000    11035.000000            11035.000000    11035.000000   \n",
       "mean    1255.780645       49.335913                8.690997       48.587438   \n",
       "std      718.615742       13.942751                2.233684       13.214715   \n",
       "min        0.000000        0.000000                0.737390        0.000000   \n",
       "25%      636.000000       39.724560                6.988780       39.763010   \n",
       "50%     1250.500000       49.316090                8.828940       48.687750   \n",
       "75%     1884.000000       58.940205               10.420815       57.461865   \n",
       "max     2499.000000      100.000000               15.557980      100.000000   \n",
       "\n",
       "        product_ean  pct_click_product_info     pct_input  pct_scrandom  \\\n",
       "count  1.104600e+04            11035.000000  11035.000000  11035.000000   \n",
       "mean   5.028290e+12               49.111376      1.178877     50.285934   \n",
       "std    2.890200e+12               13.296536      2.160966     12.439419   \n",
       "min    2.412431e+09                0.000000      0.000000      0.000000   \n",
       "25%    2.556155e+12               40.187780      0.609060     41.917425   \n",
       "50%    5.008988e+12               49.064000      0.773720     50.249340   \n",
       "75%    7.556391e+12               58.072415      1.073915     58.698980   \n",
       "max    9.998981e+12              100.000000    100.000000    100.000000   \n",
       "\n",
       "       total_load_time     pct_click  ...           ack  pct_mouse_click  \\\n",
       "count     11046.000000  11035.000000  ...  11046.000000     11035.000000   \n",
       "mean          4.005360      9.289874  ...      0.548162         9.682500   \n",
       "std           2.805904      2.028780  ...      0.497698         2.473803   \n",
       "min           0.013140      1.090310  ...      0.000000         0.000000   \n",
       "25%           1.938618      8.281450  ...      0.000000         8.010070   \n",
       "50%           3.374895      9.758960  ...      1.000000         9.677540   \n",
       "75%           5.401983     10.666375  ...      1.000000        11.320900   \n",
       "max          23.115910     14.642410  ...      1.000000        21.039530   \n",
       "\n",
       "       pct_doubleclick  mouse_move_total_rel_distance  pct_mouse_move  \\\n",
       "count     11035.000000                   11035.000000    11035.000000   \n",
       "mean          9.456206                       9.292634        8.508854   \n",
       "std           2.002375                       2.118023        0.998451   \n",
       "min           1.699640                       0.342750        4.891520   \n",
       "25%           8.297860                       8.042850        7.839245   \n",
       "50%           9.730900                       9.702120        8.500650   \n",
       "75%          10.820610                      10.715855        9.191965   \n",
       "max          16.734470                      16.348300       11.981490   \n",
       "\n",
       "       pct_scroll_move    session_id  scroll_move_total_rel_distance  \\\n",
       "count     11035.000000  1.104600e+04                    11034.000000   \n",
       "mean         52.182707  7.518338e+05                        8.519333   \n",
       "std          13.502190  4.315524e+05                        1.007736   \n",
       "min           0.000000  1.030000e+03                        4.470330   \n",
       "25%          43.071045  3.783465e+05                        7.839832   \n",
       "50%          52.143120  7.537820e+05                        8.518630   \n",
       "75%          61.328060  1.122913e+06                        9.202202   \n",
       "max         100.000000  1.499885e+06                       12.324070   \n",
       "\n",
       "       session_duration  wild_mouse_duration  \n",
       "count      11046.000000         11035.000000  \n",
       "mean         150.604875             6.792734  \n",
       "std           60.977556             1.410734  \n",
       "min          -92.919090             0.602960  \n",
       "25%          109.499407             5.932995  \n",
       "50%          150.397070             6.805400  \n",
       "75%          191.316595             7.638670  \n",
       "max          391.029670            12.862990  \n",
       "\n",
       "[8 rows x 21 columns]"
      ]
     },
     "execution_count": 30,
     "metadata": {},
     "output_type": "execute_result"
    }
   ],
   "source": [
    "session.describe()"
   ]
  },
  {
   "cell_type": "markdown",
   "metadata": {},
   "source": [
    "Analýza významných atribútov v datasete\n",
    "\n",
    "Atribúty z datasetu labor.csv, sú najmä číselné atribúty a preto viacero z nich je zaujímavých. Je možné\n",
    "pozorovať rôzne závislosti a vzťahy medzi nimi. Nás budú zaujímať hlavne tieto atribúty:\n",
    "\n",
    "ack                               \n",
    "page_activity_duration                          \n",
    "browser_name                       \n",
    "product_ean                                  \n",
    "user_id                         \n",
    "session_start                        \n",
    "session_duration                                  \n",
    "\n",
    "Atribúty product_ean a user_id budeme potrebovať pre spojenie s druhými datasetmi product.csv a user.csv, keďže tieto atribúty sú v daných súboroch spoločné.\n",
    "\n",
    "\n",
    "     "
   ]
  },
  {
   "cell_type": "markdown",
   "metadata": {},
   "source": [
    "Atribút: ack"
   ]
  },
  {
   "cell_type": "code",
   "execution_count": 48,
   "metadata": {},
   "outputs": [
    {
     "data": {
      "text/plain": [
       "ack\n",
       "1.0    5979\n",
       "0.0    4936\n",
       "Name: count, dtype: int64"
      ]
     },
     "execution_count": 48,
     "metadata": {},
     "output_type": "execute_result"
    }
   ],
   "source": [
    "session.ack.value_counts()"
   ]
  },
  {
   "cell_type": "code",
   "execution_count": 50,
   "metadata": {},
   "outputs": [
    {
     "data": {
      "text/plain": [
       "<Axes: xlabel='ack'>"
      ]
     },
     "execution_count": 50,
     "metadata": {},
     "output_type": "execute_result"
    },
    {
     "data": {
      "image/png": "[encoded data removed]",
      "text/plain": [
       "<Figure size 640x480 with 1 Axes>"
      ]
     },
     "metadata": {},
     "output_type": "display_data"
    }
   ],
   "source": [
    "session.ack.value_counts().plot(kind='bar')"
   ]
  },
  {
   "cell_type": "markdown",
   "metadata": {},
   "source": [
    "Atribút: page_activity_duration"
   ]
  },
  {
   "cell_type": "code",
   "execution_count": 60,
   "metadata": {},
   "outputs": [
    {
     "data": {
      "text/plain": [
       "count    10904.000000\n",
       "mean         8.694519\n",
       "std          2.235023\n",
       "min          0.737390\n",
       "25%          6.992892\n",
       "50%          8.837935\n",
       "75%         10.422913\n",
       "max         15.557980\n",
       "Name: page_activity_duration, dtype: float64"
      ]
     },
     "execution_count": 60,
     "metadata": {},
     "output_type": "execute_result"
    }
   ],
   "source": [
    "session.page_activity_duration.describe()"
   ]
  },
  {
   "cell_type": "code",
   "execution_count": 81,
   "metadata": {},
   "outputs": [
    {
     "name": "stderr",
     "output_type": "stream",
     "text": [
      "c:\\Users\\Daniel Lendvorský\\AppData\\Local\\Programs\\Python\\Python311\\Lib\\site-packages\\seaborn\\_oldcore.py:1498: FutureWarning: is_categorical_dtype is deprecated and will be removed in a future version. Use isinstance(dtype, CategoricalDtype) instead\n",
      "  if pd.api.types.is_categorical_dtype(vector):\n",
      "c:\\Users\\Daniel Lendvorský\\AppData\\Local\\Programs\\Python\\Python311\\Lib\\site-packages\\seaborn\\_oldcore.py:1119: FutureWarning: use_inf_as_na option is deprecated and will be removed in a future version. Convert inf values to NaN before operating instead.\n",
      "  with pd.option_context('mode.use_inf_as_na', True):\n"
     ]
    },
    {
     "data": {
      "text/plain": [
       "<Axes: xlabel='page_activity_duration', ylabel='Count'>"
      ]
     },
     "execution_count": 81,
     "metadata": {},
     "output_type": "execute_result"
    },
    {
     "data": {
      "image/png": "[encoded data removed]",
      "text/plain": [
       "<Figure size 640x480 with 1 Axes>"
      ]
     },
     "metadata": {},
     "output_type": "display_data"
    }
   ],
   "source": [
    "sns.histplot(session.page_activity_duration,bins=100)"
   ]
  },
  {
   "cell_type": "code",
   "execution_count": 84,
   "metadata": {},
   "outputs": [
    {
     "name": "stderr",
     "output_type": "stream",
     "text": [
      "c:\\Users\\Daniel Lendvorský\\AppData\\Local\\Programs\\Python\\Python311\\Lib\\site-packages\\seaborn\\_oldcore.py:1498: FutureWarning: is_categorical_dtype is deprecated and will be removed in a future version. Use isinstance(dtype, CategoricalDtype) instead\n",
      "  if pd.api.types.is_categorical_dtype(vector):\n"
     ]
    },
    {
     "data": {
      "text/plain": [
       "<Axes: ylabel='page_activity_duration'>"
      ]
     },
     "execution_count": 84,
     "metadata": {},
     "output_type": "execute_result"
    },
    {
     "data": {
      "image/png": "[encoded data removed]",
      "text/plain": [
       "<Figure size 640x480 with 1 Axes>"
      ]
     },
     "metadata": {},
     "output_type": "display_data"
    }
   ],
   "source": [
    "sns.boxplot(y = session.page_activity_duration)"
   ]
  },
  {
   "cell_type": "markdown",
   "metadata": {},
   "source": [
    "Atribút: browser_name"
   ]
  },
  {
   "cell_type": "code",
   "execution_count": 62,
   "metadata": {},
   "outputs": [
    {
     "data": {
      "text/plain": [
       "count      10915\n",
       "unique         7\n",
       "top       chrome\n",
       "freq        3294\n",
       "Name: browser_name, dtype: object"
      ]
     },
     "execution_count": 62,
     "metadata": {},
     "output_type": "execute_result"
    }
   ],
   "source": [
    "session.browser_name.describe()"
   ]
  },
  {
   "cell_type": "code",
   "execution_count": 63,
   "metadata": {},
   "outputs": [
    {
     "data": {
      "text/plain": [
       "browser_name\n",
       "chrome     3294\n",
       "edge       3237\n",
       "safari     1139\n",
       "firefox    1072\n",
       "mobile     1031\n",
       "other       600\n",
       "opera       542\n",
       "Name: count, dtype: int64"
      ]
     },
     "execution_count": 63,
     "metadata": {},
     "output_type": "execute_result"
    }
   ],
   "source": [
    "session['browser_name'].value_counts()\n"
   ]
  },
  {
   "cell_type": "code",
   "execution_count": 66,
   "metadata": {},
   "outputs": [
    {
     "name": "stderr",
     "output_type": "stream",
     "text": [
      "c:\\Users\\Daniel Lendvorský\\AppData\\Local\\Programs\\Python\\Python311\\Lib\\site-packages\\seaborn\\_oldcore.py:1498: FutureWarning: is_categorical_dtype is deprecated and will be removed in a future version. Use isinstance(dtype, CategoricalDtype) instead\n",
      "  if pd.api.types.is_categorical_dtype(vector):\n",
      "c:\\Users\\Daniel Lendvorský\\AppData\\Local\\Programs\\Python\\Python311\\Lib\\site-packages\\seaborn\\_oldcore.py:1498: FutureWarning: is_categorical_dtype is deprecated and will be removed in a future version. Use isinstance(dtype, CategoricalDtype) instead\n",
      "  if pd.api.types.is_categorical_dtype(vector):\n",
      "c:\\Users\\Daniel Lendvorský\\AppData\\Local\\Programs\\Python\\Python311\\Lib\\site-packages\\seaborn\\_oldcore.py:1498: FutureWarning: is_categorical_dtype is deprecated and will be removed in a future version. Use isinstance(dtype, CategoricalDtype) instead\n",
      "  if pd.api.types.is_categorical_dtype(vector):\n"
     ]
    },
    {
     "data": {
      "text/plain": [
       "<Axes: xlabel='browser_name', ylabel='count'>"
      ]
     },
     "execution_count": 66,
     "metadata": {},
     "output_type": "execute_result"
    },
    {
     "data": {
      "image/png": "[encoded data removed]",
      "text/plain": [
       "<Figure size 640x480 with 1 Axes>"
      ]
     },
     "metadata": {},
     "output_type": "display_data"
    }
   ],
   "source": [
    "sns.countplot(data=session,x=\"browser_name\",palette=(\"YlOrRd_r\"))"
   ]
  },
  {
   "cell_type": "markdown",
   "metadata": {},
   "source": [
    "Atribút: user_id"
   ]
  },
  {
   "cell_type": "code",
   "execution_count": 93,
   "metadata": {},
   "outputs": [
    {
     "data": {
      "text/plain": [
       "count    10915.000000\n",
       "mean      1256.453688\n",
       "std        719.043370\n",
       "min          0.000000\n",
       "25%        636.000000\n",
       "50%       1251.000000\n",
       "75%       1886.500000\n",
       "max       2499.000000\n",
       "Name: user_id, dtype: float64"
      ]
     },
     "execution_count": 93,
     "metadata": {},
     "output_type": "execute_result"
    }
   ],
   "source": [
    "session.user_id.describe()"
   ]
  },
  {
   "cell_type": "markdown",
   "metadata": {},
   "source": [
    "Atribút: session_start"
   ]
  },
  {
   "cell_type": "code",
   "execution_count": 91,
   "metadata": {},
   "outputs": [
    {
     "data": {
      "text/plain": [
       "count                   10915\n",
       "unique                  10915\n",
       "top       2021-08-31 01:16:45\n",
       "freq                        1\n",
       "Name: session_start, dtype: object"
      ]
     },
     "execution_count": 91,
     "metadata": {},
     "output_type": "execute_result"
    }
   ],
   "source": [
    "session.session_start.describe()\n"
   ]
  },
  {
   "cell_type": "markdown",
   "metadata": {},
   "source": [
    "Atribút: session_duration"
   ]
  },
  {
   "cell_type": "code",
   "execution_count": 90,
   "metadata": {},
   "outputs": [
    {
     "data": {
      "text/plain": [
       "count    10915.000000\n",
       "mean       150.642325\n",
       "std         60.940996\n",
       "min        -92.919090\n",
       "25%        109.636655\n",
       "50%        150.519710\n",
       "75%        191.309890\n",
       "max        391.029670\n",
       "Name: session_duration, dtype: float64"
      ]
     },
     "execution_count": 90,
     "metadata": {},
     "output_type": "execute_result"
    }
   ],
   "source": [
    "session.session_duration.describe()\n"
   ]
  },
  {
   "cell_type": "code",
   "execution_count": 78,
   "metadata": {},
   "outputs": [
    {
     "name": "stderr",
     "output_type": "stream",
     "text": [
      "c:\\Users\\Daniel Lendvorský\\AppData\\Local\\Programs\\Python\\Python311\\Lib\\site-packages\\seaborn\\_oldcore.py:1498: FutureWarning: is_categorical_dtype is deprecated and will be removed in a future version. Use isinstance(dtype, CategoricalDtype) instead\n",
      "  if pd.api.types.is_categorical_dtype(vector):\n",
      "c:\\Users\\Daniel Lendvorský\\AppData\\Local\\Programs\\Python\\Python311\\Lib\\site-packages\\seaborn\\_oldcore.py:1119: FutureWarning: use_inf_as_na option is deprecated and will be removed in a future version. Convert inf values to NaN before operating instead.\n",
      "  with pd.option_context('mode.use_inf_as_na', True):\n"
     ]
    },
    {
     "data": {
      "text/plain": [
       "<Axes: xlabel='session_duration', ylabel='Count'>"
      ]
     },
     "execution_count": 78,
     "metadata": {},
     "output_type": "execute_result"
    },
    {
     "data": {
      "image/png": "[encoded data removed]",
      "text/plain": [
       "<Figure size 640x480 with 1 Axes>"
      ]
     },
     "metadata": {},
     "output_type": "display_data"
    }
   ],
   "source": [
    "sns.histplot(session.session_duration,bins=100)"
   ]
  },
  {
   "cell_type": "code",
   "execution_count": 80,
   "metadata": {},
   "outputs": [
    {
     "name": "stderr",
     "output_type": "stream",
     "text": [
      "c:\\Users\\Daniel Lendvorský\\AppData\\Local\\Programs\\Python\\Python311\\Lib\\site-packages\\seaborn\\_oldcore.py:1498: FutureWarning: is_categorical_dtype is deprecated and will be removed in a future version. Use isinstance(dtype, CategoricalDtype) instead\n",
      "  if pd.api.types.is_categorical_dtype(vector):\n"
     ]
    },
    {
     "data": {
      "text/plain": [
       "<Axes: ylabel='session_duration'>"
      ]
     },
     "execution_count": 80,
     "metadata": {},
     "output_type": "execute_result"
    },
    {
     "data": {
      "image/png": "[encoded data removed]",
      "text/plain": [
       "<Figure size 640x480 with 1 Axes>"
      ]
     },
     "metadata": {},
     "output_type": "display_data"
    }
   ],
   "source": [
    "sns.boxplot(y = session.session_duration)"
   ]
  },
  {
   "cell_type": "markdown",
   "metadata": {},
   "source": [
    "Identifikácia problémov v dátach s prvotným riešením"
   ]
  },
  {
   "cell_type": "markdown",
   "metadata": {},
   "source": [
    "Overenie duplicitných záznamov"
   ]
  },
  {
   "cell_type": "code",
   "execution_count": 31,
   "metadata": {},
   "outputs": [
    {
     "name": "stdout",
     "output_type": "stream",
     "text": [
      "Počet záznamov v datasete: 10915\n",
      "V datasete sa nachádza: 131 duplikátov.\n"
     ]
    }
   ],
   "source": [
    "duplicate = session[session.duplicated()]\n",
    "session = session.drop_duplicates()\n",
    "print(\"Počet záznamov v datasete: \"+str(len(session)))\n",
    "print(\"V datasete sa nachádza: \" + str(len(duplicate)) + \" duplikátov.\")"
   ]
  },
  {
   "cell_type": "markdown",
   "metadata": {},
   "source": [
    "DATASET:user"
   ]
  },
  {
   "cell_type": "markdown",
   "metadata": {},
   "source": [
    "Dataset user.csv obsahuje dokopy 2585 záznamov popisu produktov. Počet všetkých atribútov týchto záznamov je 11. \n"
   ]
  },
  {
   "cell_type": "code",
   "execution_count": 32,
   "metadata": {},
   "outputs": [
    {
     "data": {
      "text/plain": [
       "(2585, 11)"
      ]
     },
     "execution_count": 32,
     "metadata": {},
     "output_type": "execute_result"
    }
   ],
   "source": [
    "user.shape"
   ]
  },
  {
   "cell_type": "code",
   "execution_count": 33,
   "metadata": {},
   "outputs": [
    {
     "name": "stdout",
     "output_type": "stream",
     "text": [
      "<class 'pandas.core.frame.DataFrame'>\n",
      "RangeIndex: 2585 entries, 0 to 2584\n",
      "Data columns (total 11 columns):\n",
      " #   Column        Non-Null Count  Dtype \n",
      "---  ------        --------------  ----- \n",
      " 0   address       2197 non-null   object\n",
      " 1   birthdate     1422 non-null   object\n",
      " 2   sex           1293 non-null   object\n",
      " 3   registration  2585 non-null   object\n",
      " 4   name          2585 non-null   object\n",
      " 5   username      2585 non-null   object\n",
      " 6   mail          2585 non-null   object\n",
      " 7   user_id       2585 non-null   int64 \n",
      " 8   job           1034 non-null   object\n",
      " 9   residence     905 non-null    object\n",
      " 10  race          776 non-null    object\n",
      "dtypes: int64(1), object(10)\n",
      "memory usage: 222.3+ KB\n"
     ]
    }
   ],
   "source": [
    "user.info()"
   ]
  },
  {
   "cell_type": "code",
   "execution_count": 58,
   "metadata": {},
   "outputs": [
    {
     "data": {
      "text/html": [
       "<div>\n",
       "<style scoped>\n",
       "    .dataframe tbody tr th:only-of-type {\n",
       "        vertical-align: middle;\n",
       "    }\n",
       "\n",
       "    .dataframe tbody tr th {\n",
       "        vertical-align: top;\n",
       "    }\n",
       "\n",
       "    .dataframe thead th {\n",
       "        text-align: right;\n",
       "    }\n",
       "</style>\n",
       "<table border=\"1\" class=\"dataframe\">\n",
       "  <thead>\n",
       "    <tr style=\"text-align: right;\">\n",
       "      <th></th>\n",
       "      <th>user_id</th>\n",
       "    </tr>\n",
       "  </thead>\n",
       "  <tbody>\n",
       "    <tr>\n",
       "      <th>count</th>\n",
       "      <td>2585.000000</td>\n",
       "    </tr>\n",
       "    <tr>\n",
       "      <th>mean</th>\n",
       "      <td>1279.099420</td>\n",
       "    </tr>\n",
       "    <tr>\n",
       "      <th>std</th>\n",
       "      <td>733.313018</td>\n",
       "    </tr>\n",
       "    <tr>\n",
       "      <th>min</th>\n",
       "      <td>0.000000</td>\n",
       "    </tr>\n",
       "    <tr>\n",
       "      <th>25%</th>\n",
       "      <td>652.000000</td>\n",
       "    </tr>\n",
       "    <tr>\n",
       "      <th>50%</th>\n",
       "      <td>1283.000000</td>\n",
       "    </tr>\n",
       "    <tr>\n",
       "      <th>75%</th>\n",
       "      <td>1903.000000</td>\n",
       "    </tr>\n",
       "    <tr>\n",
       "      <th>max</th>\n",
       "      <td>2584.000000</td>\n",
       "    </tr>\n",
       "  </tbody>\n",
       "</table>\n",
       "</div>"
      ],
      "text/plain": [
       "           user_id\n",
       "count  2585.000000\n",
       "mean   1279.099420\n",
       "std     733.313018\n",
       "min       0.000000\n",
       "25%     652.000000\n",
       "50%    1283.000000\n",
       "75%    1903.000000\n",
       "max    2584.000000"
      ]
     },
     "execution_count": 58,
     "metadata": {},
     "output_type": "execute_result"
    }
   ],
   "source": [
    "user.describe()"
   ]
  },
  {
   "cell_type": "markdown",
   "metadata": {},
   "source": [
    "Analýza významných atribútov v datasete"
   ]
  },
  {
   "cell_type": "markdown",
   "metadata": {},
   "source": [
    "Atribúty z datasetu user.csv, ktoré nás budú zaujímať sú najmä birthdate, registration, user_id, sex a race.\n",
    "\n",
    "Pri skúmaní môžeme napríklad zisťovať, či existuje nejaká závislosť medzi danými atribútmi a predikovanou premennou ack. \n",
    "\n",
    "Atribút user_id ako už bolo spomenuté budeme potrebovať pre vyhľadávanie hodnôt v druhom\n",
    "datasete session.csv."
   ]
  },
  {
   "cell_type": "code",
   "execution_count": 53,
   "metadata": {},
   "outputs": [
    {
     "data": {
      "text/plain": [
       "sex\n",
       "M    652\n",
       "F    641\n",
       "Name: count, dtype: int64"
      ]
     },
     "execution_count": 53,
     "metadata": {},
     "output_type": "execute_result"
    }
   ],
   "source": [
    "user.sex.value_counts()"
   ]
  },
  {
   "cell_type": "code",
   "execution_count": 94,
   "metadata": {},
   "outputs": [
    {
     "name": "stderr",
     "output_type": "stream",
     "text": [
      "c:\\Users\\Daniel Lendvorský\\AppData\\Local\\Programs\\Python\\Python311\\Lib\\site-packages\\seaborn\\_oldcore.py:1498: FutureWarning: is_categorical_dtype is deprecated and will be removed in a future version. Use isinstance(dtype, CategoricalDtype) instead\n",
      "  if pd.api.types.is_categorical_dtype(vector):\n",
      "c:\\Users\\Daniel Lendvorský\\AppData\\Local\\Programs\\Python\\Python311\\Lib\\site-packages\\seaborn\\_oldcore.py:1498: FutureWarning: is_categorical_dtype is deprecated and will be removed in a future version. Use isinstance(dtype, CategoricalDtype) instead\n",
      "  if pd.api.types.is_categorical_dtype(vector):\n",
      "c:\\Users\\Daniel Lendvorský\\AppData\\Local\\Programs\\Python\\Python311\\Lib\\site-packages\\seaborn\\_oldcore.py:1498: FutureWarning: is_categorical_dtype is deprecated and will be removed in a future version. Use isinstance(dtype, CategoricalDtype) instead\n",
      "  if pd.api.types.is_categorical_dtype(vector):\n"
     ]
    },
    {
     "data": {
      "text/plain": [
       "<Axes: xlabel='sex', ylabel='count'>"
      ]
     },
     "execution_count": 94,
     "metadata": {},
     "output_type": "execute_result"
    },
    {
     "data": {
      "image/png": "[encoded data removed]",
      "text/plain": [
       "<Figure size 640x480 with 1 Axes>"
      ]
     },
     "metadata": {},
     "output_type": "display_data"
    }
   ],
   "source": [
    "sns.countplot(data=user,x=\"sex\",palette=(\"YlOrRd_r\"))"
   ]
  },
  {
   "cell_type": "code",
   "execution_count": 54,
   "metadata": {},
   "outputs": [
    {
     "data": {
      "text/plain": [
       "race\n",
       "unspecified    238\n",
       "white          167\n",
       "black          164\n",
       "asian          144\n",
       "indian          63\n",
       "Name: count, dtype: int64"
      ]
     },
     "execution_count": 54,
     "metadata": {},
     "output_type": "execute_result"
    }
   ],
   "source": [
    "user.race.value_counts()"
   ]
  },
  {
   "cell_type": "code",
   "execution_count": 96,
   "metadata": {},
   "outputs": [
    {
     "data": {
      "text/plain": [
       "<Axes: ylabel='count'>"
      ]
     },
     "execution_count": 96,
     "metadata": {},
     "output_type": "execute_result"
    },
    {
     "data": {
      "image/png": "[encoded data removed]",
      "text/plain": [
       "<Figure size 640x480 with 1 Axes>"
      ]
     },
     "metadata": {},
     "output_type": "display_data"
    }
   ],
   "source": [
    "user.race.value_counts().plot(kind='pie')"
   ]
  },
  {
   "cell_type": "code",
   "execution_count": 98,
   "metadata": {},
   "outputs": [
    {
     "data": {
      "text/plain": [
       "birthdate\n",
       "1960-03-04    3\n",
       "1928-10-27    2\n",
       "1969-05-13    2\n",
       "1977-12-04    2\n",
       "1948-03-02    2\n",
       "             ..\n",
       "1912-03-27    1\n",
       "2006-02-15    1\n",
       "1936-06-06    1\n",
       "1944-09-24    1\n",
       "1929-12-10    1\n",
       "Name: count, Length: 1395, dtype: int64"
      ]
     },
     "execution_count": 98,
     "metadata": {},
     "output_type": "execute_result"
    }
   ],
   "source": [
    "user.birthdate.value_counts()"
   ]
  },
  {
   "cell_type": "code",
   "execution_count": 99,
   "metadata": {},
   "outputs": [
    {
     "data": {
      "text/plain": [
       "registration\n",
       "06 Nov 2014    4\n",
       "2021-03-29     4\n",
       "2020-09-15     3\n",
       "20 Nov 2019    3\n",
       "2014/12/29     3\n",
       "              ..\n",
       "2013-10-31     1\n",
       "09 Apr 2022    1\n",
       "2022/04/03     1\n",
       "2023/02/10     1\n",
       "2018-08-14     1\n",
       "Name: count, Length: 2356, dtype: int64"
      ]
     },
     "execution_count": 99,
     "metadata": {},
     "output_type": "execute_result"
    }
   ],
   "source": [
    "user.registration.value_counts()"
   ]
  },
  {
   "cell_type": "markdown",
   "metadata": {},
   "source": [
    "Identifikácia problémov v dátach s prvotným riešením"
   ]
  },
  {
   "cell_type": "markdown",
   "metadata": {},
   "source": [
    "Overenie duplicitných záznamov"
   ]
  },
  {
   "cell_type": "code",
   "execution_count": 35,
   "metadata": {},
   "outputs": [
    {
     "name": "stdout",
     "output_type": "stream",
     "text": [
      "Počet záznamov v datasete: 2585\n",
      "V datasete sa nachádza: 0 duplikátov.\n"
     ]
    }
   ],
   "source": [
    "duplicate = user[user.duplicated()]\n",
    "user = user.drop_duplicates()\n",
    "print(\"Počet záznamov v datasete: \"+str(len(user)))\n",
    "print(\"V datasete sa nachádza: \" + str(len(duplicate)) + \" duplikátov.\")"
   ]
  },
  {
   "cell_type": "markdown",
   "metadata": {},
   "source": [
    "Párová analýza dát\n"
   ]
  },
  {
   "cell_type": "code",
   "execution_count": 105,
   "metadata": {},
   "outputs": [
    {
     "ename": "ValueError",
     "evalue": "could not convert string to float: 'Čajkovského 3\\n203 70 Karolinka'",
     "output_type": "error",
     "traceback": [
      "\u001b[1;31m---------------------------------------------------------------------------\u001b[0m",
      "\u001b[1;31mValueError\u001b[0m                                Traceback (most recent call last)",
      "\u001b[1;32mc:\\Users\\Daniel Lendvorský\\OneDrive\\3.semester\\IAU\\1.faza\\zadanie_1_časť.ipynb Cell 71\u001b[0m line \u001b[0;36m2\n\u001b[0;32m      <a href='vscode-notebook-cell:/c%3A/Users/Daniel%20Lendvorsk%C3%BD/OneDrive/3.semester/IAU/1.faza/zadanie_1_%C4%8Das%C5%A5.ipynb#Y151sZmlsZQ%3D%3D?line=0'>1</a>\u001b[0m figure, ax \u001b[39m=\u001b[39m plt\u001b[39m.\u001b[39msubplots(figsize\u001b[39m=\u001b[39m(\u001b[39m20\u001b[39m,\u001b[39m16\u001b[39m))\n\u001b[1;32m----> <a href='vscode-notebook-cell:/c%3A/Users/Daniel%20Lendvorsk%C3%BD/OneDrive/3.semester/IAU/1.faza/zadanie_1_%C4%8Das%C5%A5.ipynb#Y151sZmlsZQ%3D%3D?line=1'>2</a>\u001b[0m sns\u001b[39m.\u001b[39mheatmap(user\u001b[39m.\u001b[39;49mcorr(),ax\u001b[39m=\u001b[39max, annot \u001b[39m=\u001b[39m\u001b[39mTrue\u001b[39;00m, fmt \u001b[39m=\u001b[39m \u001b[39m\"\u001b[39m\u001b[39m.3f\u001b[39m\u001b[39m\"\u001b[39m)\n",
      "File \u001b[1;32mc:\\Users\\Daniel Lendvorský\\AppData\\Local\\Programs\\Python\\Python311\\Lib\\site-packages\\pandas\\core\\frame.py:10707\u001b[0m, in \u001b[0;36mDataFrame.corr\u001b[1;34m(self, method, min_periods, numeric_only)\u001b[0m\n\u001b[0;32m  10705\u001b[0m cols \u001b[39m=\u001b[39m data\u001b[39m.\u001b[39mcolumns\n\u001b[0;32m  10706\u001b[0m idx \u001b[39m=\u001b[39m cols\u001b[39m.\u001b[39mcopy()\n\u001b[1;32m> 10707\u001b[0m mat \u001b[39m=\u001b[39m data\u001b[39m.\u001b[39;49mto_numpy(dtype\u001b[39m=\u001b[39;49m\u001b[39mfloat\u001b[39;49m, na_value\u001b[39m=\u001b[39;49mnp\u001b[39m.\u001b[39;49mnan, copy\u001b[39m=\u001b[39;49m\u001b[39mFalse\u001b[39;49;00m)\n\u001b[0;32m  10709\u001b[0m \u001b[39mif\u001b[39;00m method \u001b[39m==\u001b[39m \u001b[39m\"\u001b[39m\u001b[39mpearson\u001b[39m\u001b[39m\"\u001b[39m:\n\u001b[0;32m  10710\u001b[0m     correl \u001b[39m=\u001b[39m libalgos\u001b[39m.\u001b[39mnancorr(mat, minp\u001b[39m=\u001b[39mmin_periods)\n",
      "File \u001b[1;32mc:\\Users\\Daniel Lendvorský\\AppData\\Local\\Programs\\Python\\Python311\\Lib\\site-packages\\pandas\\core\\frame.py:1892\u001b[0m, in \u001b[0;36mDataFrame.to_numpy\u001b[1;34m(self, dtype, copy, na_value)\u001b[0m\n\u001b[0;32m   1890\u001b[0m \u001b[39mif\u001b[39;00m dtype \u001b[39mis\u001b[39;00m \u001b[39mnot\u001b[39;00m \u001b[39mNone\u001b[39;00m:\n\u001b[0;32m   1891\u001b[0m     dtype \u001b[39m=\u001b[39m np\u001b[39m.\u001b[39mdtype(dtype)\n\u001b[1;32m-> 1892\u001b[0m result \u001b[39m=\u001b[39m \u001b[39mself\u001b[39;49m\u001b[39m.\u001b[39;49m_mgr\u001b[39m.\u001b[39;49mas_array(dtype\u001b[39m=\u001b[39;49mdtype, copy\u001b[39m=\u001b[39;49mcopy, na_value\u001b[39m=\u001b[39;49mna_value)\n\u001b[0;32m   1893\u001b[0m \u001b[39mif\u001b[39;00m result\u001b[39m.\u001b[39mdtype \u001b[39mis\u001b[39;00m \u001b[39mnot\u001b[39;00m dtype:\n\u001b[0;32m   1894\u001b[0m     result \u001b[39m=\u001b[39m np\u001b[39m.\u001b[39marray(result, dtype\u001b[39m=\u001b[39mdtype, copy\u001b[39m=\u001b[39m\u001b[39mFalse\u001b[39;00m)\n",
      "File \u001b[1;32mc:\\Users\\Daniel Lendvorský\\AppData\\Local\\Programs\\Python\\Python311\\Lib\\site-packages\\pandas\\core\\internals\\managers.py:1656\u001b[0m, in \u001b[0;36mBlockManager.as_array\u001b[1;34m(self, dtype, copy, na_value)\u001b[0m\n\u001b[0;32m   1654\u001b[0m         arr\u001b[39m.\u001b[39mflags\u001b[39m.\u001b[39mwriteable \u001b[39m=\u001b[39m \u001b[39mFalse\u001b[39;00m\n\u001b[0;32m   1655\u001b[0m \u001b[39melse\u001b[39;00m:\n\u001b[1;32m-> 1656\u001b[0m     arr \u001b[39m=\u001b[39m \u001b[39mself\u001b[39;49m\u001b[39m.\u001b[39;49m_interleave(dtype\u001b[39m=\u001b[39;49mdtype, na_value\u001b[39m=\u001b[39;49mna_value)\n\u001b[0;32m   1657\u001b[0m     \u001b[39m# The underlying data was copied within _interleave, so no need\u001b[39;00m\n\u001b[0;32m   1658\u001b[0m     \u001b[39m# to further copy if copy=True or setting na_value\u001b[39;00m\n\u001b[0;32m   1660\u001b[0m \u001b[39mif\u001b[39;00m na_value \u001b[39mis\u001b[39;00m lib\u001b[39m.\u001b[39mno_default:\n",
      "File \u001b[1;32mc:\\Users\\Daniel Lendvorský\\AppData\\Local\\Programs\\Python\\Python311\\Lib\\site-packages\\pandas\\core\\internals\\managers.py:1715\u001b[0m, in \u001b[0;36mBlockManager._interleave\u001b[1;34m(self, dtype, na_value)\u001b[0m\n\u001b[0;32m   1713\u001b[0m     \u001b[39melse\u001b[39;00m:\n\u001b[0;32m   1714\u001b[0m         arr \u001b[39m=\u001b[39m blk\u001b[39m.\u001b[39mget_values(dtype)\n\u001b[1;32m-> 1715\u001b[0m     result[rl\u001b[39m.\u001b[39;49mindexer] \u001b[39m=\u001b[39m arr\n\u001b[0;32m   1716\u001b[0m     itemmask[rl\u001b[39m.\u001b[39mindexer] \u001b[39m=\u001b[39m \u001b[39m1\u001b[39m\n\u001b[0;32m   1718\u001b[0m \u001b[39mif\u001b[39;00m \u001b[39mnot\u001b[39;00m itemmask\u001b[39m.\u001b[39mall():\n",
      "\u001b[1;31mValueError\u001b[0m: could not convert string to float: 'Čajkovského 3\\n203 70 Karolinka'"
     ]
    },
    {
     "data": {
      "image/png": "[encoded data removed]",
      "text/plain": [
       "<Figure size 2000x1600 with 1 Axes>"
      ]
     },
     "metadata": {},
     "output_type": "display_data"
    }
   ],
   "source": [
    "figure, ax = plt.subplots(figsize=(20,16))\n",
    "sns.heatmap(user.corr(),ax=ax, annot =True, fmt = \".3f\")"
   ]
  },
  {
   "cell_type": "code",
   "execution_count": 106,
   "metadata": {},
   "outputs": [
    {
     "name": "stderr",
     "output_type": "stream",
     "text": [
      "C:\\Users\\Daniel Lendvorský\\AppData\\Local\\Temp\\ipykernel_2804\\2222207023.py:3: UserWarning: To output multiple subplots, the figure containing the passed axes is being cleared.\n",
      "  session.hist(ax = ax)\n"
     ]
    },
    {
     "data": {
      "text/plain": [
       "array([[<Axes: title={'center': 'user_id'}>,\n",
       "        <Axes: title={'center': 'pct_rage_click'}>,\n",
       "        <Axes: title={'center': 'page_activity_duration'}>,\n",
       "        <Axes: title={'center': 'pct_wild_mouse'}>,\n",
       "        <Axes: title={'center': 'product_ean'}>],\n",
       "       [<Axes: title={'center': 'pct_click_product_info'}>,\n",
       "        <Axes: title={'center': 'pct_input'}>,\n",
       "        <Axes: title={'center': 'pct_scrandom'}>,\n",
       "        <Axes: title={'center': 'total_load_time'}>,\n",
       "        <Axes: title={'center': 'pct_click'}>],\n",
       "       [<Axes: title={'center': 'pct_scroll_move_duration'}>,\n",
       "        <Axes: title={'center': 'ack'}>,\n",
       "        <Axes: title={'center': 'pct_mouse_click'}>,\n",
       "        <Axes: title={'center': 'pct_doubleclick'}>,\n",
       "        <Axes: title={'center': 'mouse_move_total_rel_distance'}>],\n",
       "       [<Axes: title={'center': 'pct_mouse_move'}>,\n",
       "        <Axes: title={'center': 'pct_scroll_move'}>,\n",
       "        <Axes: title={'center': 'session_id'}>,\n",
       "        <Axes: title={'center': 'scroll_move_total_rel_distance'}>,\n",
       "        <Axes: title={'center': 'session_duration'}>],\n",
       "       [<Axes: title={'center': 'wild_mouse_duration'}>, <Axes: >,\n",
       "        <Axes: >, <Axes: >, <Axes: >]], dtype=object)"
      ]
     },
     "execution_count": 106,
     "metadata": {},
     "output_type": "execute_result"
    },
    {
     "data": {
      "image/png": "[encoded data removed]",
      "text/plain": [
       "<Figure size 1500x2000 with 25 Axes>"
      ]
     },
     "metadata": {},
     "output_type": "display_data"
    }
   ],
   "source": [
    "fig = plt.figure(figsize = (15,20))\n",
    "ax = fig.gca()\n",
    "session.hist(ax = ax)"
   ]
  }
 ],
 "metadata": {
  "kernelspec": {
   "display_name": "Python 3",
   "language": "python",
   "name": "python3"
  },
  "language_info": {
   "codemirror_mode": {
    "name": "ipython",
    "version": 3
   },
   "file_extension": ".py",
   "mimetype": "text/x-python",
   "name": "python",
   "nbconvert_exporter": "python",
   "pygments_lexer": "ipython3",
   "version": "3.11.5"
  }
 },
 "nbformat": 4,
 "nbformat_minor": 2
}
