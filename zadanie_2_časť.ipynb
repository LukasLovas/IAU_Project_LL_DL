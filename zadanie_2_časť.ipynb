{
 "cells": [
  {
   "cell_type": "markdown",
   "metadata": {},
   "source": [
    "IAU Projekt 2.fáza - Predspracovanie údajov "
   ]
  },
  {
   "cell_type": "markdown",
   "metadata": {},
   "source": [
    "Autori: Lukáš Lovás(50%), Daniel Lendvorský(50%)"
   ]
  },
  {
   "cell_type": "markdown",
   "metadata": {},
   "source": [
    "Dátum: 19.11.2023"
   ]
  },
  {
   "cell_type": "code",
   "execution_count": 1,
   "metadata": {},
   "outputs": [],
   "source": [
    "import matplotlib.pyplot as plt\n",
    "import seaborn as sns\n",
    "import pandas as pd\n",
    "import numpy as np\n",
    "import matplotlib as mat\n",
    "import matplotlib.pylab as pylab\n",
    "import statsmodels.api as sm\n",
    "from sklearn.preprocessing import FunctionTransformer\n",
    "import statsmodels.stats as sm_stats\n",
    "import statsmodels.stats.api as sms\n",
    "import scipy.stats as stats\n",
    "from matplotlib import pyplot\n",
    "from collections import Counter\n",
    "from datetime import datetime, date\n",
    "from sklearn.impute import KNNImputer\n",
    "from sklearn.model_selection import train_test_split\n",
    "from sklearn.preprocessing import PowerTransformer\n",
    "from sklearn.preprocessing import MinMaxScaler\n",
    "from sklearn.feature_selection import VarianceThreshold\n",
    "from sklearn.preprocessing import StandardScaler ,MinMaxScaler, PowerTransformer,QuantileTransformer\n",
    "from sklearn.feature_selection import SelectKBest, f_classif\n",
    "from sklearn.feature_selection import SelectKBest\n",
    "from sklearn.feature_selection import mutual_info_regression\n",
    "from sklearn.feature_selection import RFE\n",
    "from sklearn.svm import SVR\n",
    "pd.options.mode.chained_assignment = None\n",
    "from pandas import read_csv\n",
    "from sklearn.model_selection import train_test_split\n",
    "from sklearn.feature_selection import SelectKBest\n",
    "from sklearn.feature_selection import f_regression\n",
    "from matplotlib import pyplot\n",
    "from sklearn.compose import ColumnTransformer, make_column_transformer\n",
    "from sklearn.pipeline import Pipeline, make_pipeline"
   ]
  },
  {
   "cell_type": "markdown",
   "metadata": {},
   "source": [
    "    Integrácia a čistenie dát"
   ]
  },
  {
   "cell_type": "markdown",
   "metadata": {},
   "source": [
    "Načítanie údajov z datasetov a ich merge tabuliek:"
   ]
  },
  {
   "cell_type": "code",
   "execution_count": 2,
   "metadata": {},
   "outputs": [],
   "source": [
    "filename = \"084/product.csv\"\n",
    "product = pd.read_csv(filename, sep='\\t')\n",
    "filename2 = \"084/session.csv\"\n",
    "session = pd.read_csv(filename2, sep='\\t')\n",
    "filename3 = \"084/user.csv\"\n",
    "user = pd.read_csv(filename3, sep='\\t')"
   ]
  },
  {
   "cell_type": "code",
   "execution_count": 3,
   "metadata": {},
   "outputs": [
    {
     "name": "stdout",
     "output_type": "stream",
     "text": [
      "<class 'pandas.core.frame.DataFrame'>\n",
      "RangeIndex: 10992 entries, 0 to 10991\n",
      "Data columns (total 35 columns):\n",
      " #   Column                          Non-Null Count  Dtype  \n",
      "---  ------                          --------------  -----  \n",
      " 0   user_id                         10992 non-null  int64  \n",
      " 1   pct_rage_click                  10982 non-null  float64\n",
      " 2   page_activity_duration          10981 non-null  float64\n",
      " 3   pct_wild_mouse                  10988 non-null  float64\n",
      " 4   product_ean                     10992 non-null  int64  \n",
      " 5   pct_click_product_info          10985 non-null  float64\n",
      " 6   pct_input                       10983 non-null  float64\n",
      " 7   pct_scrandom                    10983 non-null  float64\n",
      " 8   total_load_time                 10992 non-null  float64\n",
      " 9   pct_click                       10985 non-null  float64\n",
      " 10  screen_width                    10992 non-null  object \n",
      " 11  pct_scroll_move_duration        10979 non-null  float64\n",
      " 12  ack                             10992 non-null  float64\n",
      " 13  pct_mouse_click                 10980 non-null  float64\n",
      " 14  pct_doubleclick                 10984 non-null  float64\n",
      " 15  mouse_move_total_rel_distance   10986 non-null  float64\n",
      " 16  session_start                   10992 non-null  object \n",
      " 17  screen_height                   10992 non-null  object \n",
      " 18  pct_mouse_move                  10978 non-null  float64\n",
      " 19  browser_name                    10992 non-null  object \n",
      " 20  pct_scroll_move                 10977 non-null  float64\n",
      " 21  session_id                      10992 non-null  int64  \n",
      " 22  scroll_move_total_rel_distance  10975 non-null  float64\n",
      " 23  session_duration                10992 non-null  float64\n",
      " 24  wild_mouse_duration             10984 non-null  float64\n",
      " 25  address                         9311 non-null   object \n",
      " 26  birthdate                       6077 non-null   object \n",
      " 27  sex                             5457 non-null   object \n",
      " 28  registration                    10992 non-null  object \n",
      " 29  name                            10992 non-null  object \n",
      " 30  username                        10992 non-null  object \n",
      " 31  mail                            10992 non-null  object \n",
      " 32  job                             4433 non-null   object \n",
      " 33  residence                       3882 non-null   object \n",
      " 34  race                            3260 non-null   object \n",
      "dtypes: float64(18), int64(3), object(14)\n",
      "memory usage: 2.9+ MB\n"
     ]
    }
   ],
   "source": [
    "full_merge = session.merge(user, on= \"user_id\")\n",
    "full_merge.merge(product, on = \"product_ean\")\n",
    "full_merge.info()"
   ]
  }
 ],
 "metadata": {
  "kernelspec": {
   "display_name": "Python 3 (ipykernel)",
   "language": "python",
   "name": "python3"
  },
  "language_info": {
   "codemirror_mode": {
    "name": "ipython",
    "version": 3
   },
   "file_extension": ".py",
   "mimetype": "text/x-python",
   "name": "python",
   "nbconvert_exporter": "python",
   "pygments_lexer": "ipython3",
   "version": "3.11.5"
  }
 },
 "nbformat": 4,
 "nbformat_minor": 4
}
